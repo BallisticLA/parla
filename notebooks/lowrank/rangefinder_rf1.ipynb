{
 "cells": [
  {
   "cell_type": "markdown",
   "source": [
    "**This notebook is under construction**\n",
    "\n",
    "# 0. The rangefinder problem\n",
    "\n",
    "Let $A$ be an $m$-by-$n$ data matrix.\n",
    "The *rangefinder problem* with fixed rank $k \\ll \\min(m, n)$ is to find\n",
    "an (approximate) solution to\n",
    "\n",
    "\\begin{equation}\n",
    " \\min_{Q \\in \\mathbb{R}^{m \\times k}}\\{ \\|(I - QQ^T)A\\| ~|~ Q^T Q = I  \\}. \\qquad (1)\n",
    "\\end{equation}\n",
    "\n",
    "This problem can be considered in different norms.\n",
    "We will consider this problem in the operator norm, but the Frobenius norm is another important case.\n",
    "In either of these cases, the problem can be solved by setting $Q$ equal to the first $k$ columns of $U$ where\n",
    "$U$ is the matrix of left singular vectors in an SVD $A = U\\Sigma V^T$."
   ],
   "metadata": {
    "collapsed": false
   }
  },
  {
   "cell_type": "markdown",
   "source": [
    "Randomized algorithms are used to find approximate solutions to (1) with less computational cost than\n",
    "an SVD approach.\n",
    "There are many such \"rangefinder algorithms.\"\n",
    "This notebook demonstrates a simple but effective rangefinder, which\n",
    "bears many similarities to a power method for finding the top eigenvector of $AA^T$.\n",
    "The particular implementation is given by the class\n",
    "```\n",
    "rlapy.comps.rangefinders:RF1(RangeFinder)\n",
    "```\n",
    "The code block below provides a wrapper around the ``RF1`` class.\n",
    "The wrapper exposes the algorithm's functionality through a familiar procedural API."
   ],
   "metadata": {
    "collapsed": false
   }
  },
  {
   "cell_type": "code",
   "execution_count": null,
   "outputs": [],
   "source": [
    "import numpy as np\n",
    "import rlapy as rla\n",
    "import rlapy.utils.linalg_wrappers as law\n",
    "\n",
    "\n",
    "def power_rangefinder(A, k, rng, num_passes=2, stabilizer=law.orth, passes_per_stab=1):\n",
    "    \"\"\"\n",
    "    Return a matrix Q with k orthonormal columns, where ||(I - QQ')A|| is small.\n",
    "\n",
    "    A : NumPy ndarray or SciPy LinearOperator\n",
    "\n",
    "    k : int\n",
    "\n",
    "    rng : int or NumPy Generator\n",
    "        A random number generator (or seed for such a generator).\n",
    "\n",
    "    num_passes: int\n",
    "        This is the number of steps in the power method behind this rangefinder.\n",
    "        We require 1 <= num_passes, and typically we have num_passes < 10.\n",
    "\n",
    "    stabilizer : callable\n",
    "        mat2 = stabilizer(mat1) is a NumPy ndarray that has the same shape as mat1, the\n",
    "        same range of mat1, but is better conditioned than mat1.\n",
    "\n",
    "    passes_per_stab: int\n",
    "        Call the stabilizer after every \"passes_per_stab\" applications of A or A.T.\n",
    "    \"\"\"\n",
    "    rng = np.random.default_rng(rng)\n",
    "    row_sketch_alg = rla.RS1(rla.gaussian_operator, num_passes - 1, stabilizer, passes_per_stab)\n",
    "    # ^ We initialize the power method with a Gaussian distribution. Other distributions can be\n",
    "    #   used, but there is not much benefit over the Gaussian distribution when num_passes > 1.\n",
    "    rangefinder_alg = rla.RF1(row_sketch_alg)\n",
    "    Q = rangefinder_alg.exec(A, k, np.NaN, rng)\n",
    "    # ^ The tolerance parameter is set to NaN. RF1 objects can't control solution\n",
    "    #   accuracy, and raise a warning if a tolerance is anything other than NaN.\n",
    "    return Q"
   ],
   "metadata": {
    "collapsed": false,
    "pycharm": {
     "name": "#%%\n"
    }
   }
  },
  {
   "cell_type": "markdown",
   "source": [
    "This notebook runs three groups of experiments to show basic tradeoffs when\n",
    "setting the last three arguments of ``power_rangefinder``. \n",
    "\n",
    "*Experiment 1*. Illustrate how increasing ``num_passes`` produces higher quality solutions at the expense\n",
    "of longer runtime.\n",
    "Conceptually, it's useful to note that when ``k=1``, ``num_passes`` is even,\n",
    "and ``passes_per_stab=2``, the rangefinder is equivalent to running the power\n",
    "method to find the top eigenvector of $AA^T$.\n",
    "Rangefinders are typically only called with very small number of passes.\n",
    "\n",
    "*Experiment 2*. Illustrate the practical effects of choosing different stabilizers.\n",
    "Stabilizers have no effect on the final result when running in exact arithmetic.\n",
    "Ideal implementations only perform enough work as is necessary to prevent\n",
    "accumulation of rounding errors as power iterations proceed.\n",
    "The simplest stabilizer computes an orthonormal basis for the\n",
    "range of the given matrix by QR factorizing $M_1 = QR$ and then returning\n",
    "$M_2 = Q$. One can alternatively compute a pivoted LU factorization\n",
    "$M_1 = PLU$ and then return $M_2 = PL$.\n",
    "Efficient implementations of these methods would not perform the\n",
    "factorizations *per-say*. Instead, they would suitably modify $M_1$ in-place.\n",
    "We show the performance tradeoffs when using stabilizing by explicit\n",
    "QR and LU factorizations obtained from SciPy (which calls LAPACK).\n",
    "\n",
    "*Experiment 3*. Increasing ``passes_per_stab`` may result in computational savings when\n",
    "``num_passes`` is moderate. However, this risks introducing potentially\n",
    "significant rounding errors as the power iterations proceed.\n",
    "\n",
    "The code block below generates problem data for these experiments."
   ],
   "metadata": {
    "collapsed": false
   }
  },
  {
   "cell_type": "code",
   "execution_count": null,
   "outputs": [],
   "source": [
    "from matplotlib import pyplot as plt\n",
    "\n",
    "# Define a \"parent\" random number generator\n",
    "#    Use this to define initial problem data.\n",
    "#    Use this to choose random seeds later on.\n",
    "parent_rng = np.random.default_rng(203948574)\n",
    "\n",
    "# Data matrix A\n",
    "m, n = 500, 200\n",
    "rank = 100\n",
    "spectrum = parent_rng.normal(loc=0.0, scale=1, size=rank)**2\n",
    "spectrum += 1e-6\n",
    "spectrum = np.sort(spectrum)[::-1]  # sort in reverse order\n",
    "U = rla.orthonormal_operator(m, rank, parent_rng)\n",
    "Vt = rla.orthonormal_operator(rank, n, parent_rng)\n",
    "A = (U * spectrum) @ Vt\n",
    "\n",
    "fig = plt.figure(figsize=(9, 6))\n",
    "plt.subplot(2, 1, 1)\n",
    "plt.semilogy(np.arange(rank), spectrum)\n",
    "plt.title('Singular values of A (log scale and linear scale)')\n",
    "plt.subplot(2, 1, 2)\n",
    "plt.plot(np.arange(rank), spectrum)\n",
    "plt.show()"
   ],
   "metadata": {
    "collapsed": false,
    "pycharm": {
     "name": "#%%\n"
    }
   }
  },
  {
   "cell_type": "markdown",
   "source": [
    "# Experiment 1: effect of ``num_passes``\n"
   ],
   "metadata": {
    "collapsed": false
   }
  }
 ],
 "metadata": {
  "kernelspec": {
   "display_name": "Python 3",
   "language": "python",
   "name": "python3"
  },
  "language_info": {
   "codemirror_mode": {
    "name": "ipython",
    "version": 2
   },
   "file_extension": ".py",
   "mimetype": "text/x-python",
   "name": "python",
   "nbconvert_exporter": "python",
   "pygments_lexer": "ipython2",
   "version": "2.7.6"
  }
 },
 "nbformat": 4,
 "nbformat_minor": 0
}