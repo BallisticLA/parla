{
 "cells": [
  {
   "cell_type": "code",
   "execution_count": 4,
   "metadata": {
    "collapsed": true
   },
   "outputs": [],
   "source": [
    "import time\n",
    "import rlapy as rla\n",
    "import numpy as np\n",
    "import scipy.linalg as la\n",
    "from notebooks.least_squares.helpers import ols_data\n",
    "\n",
    "\n",
    "def time_alg(dims, spectrum, prop_range, alg, tol, seeds, lapack=False):\n",
    "    n_rows, n_cols = dims\n",
    "    lapack_times = np.zeros(seeds.size)\n",
    "    rlapy_times = np.zeros(seeds.size)\n",
    "    iter_lim = dims[1]\n",
    "    for i, seed in enumerate(seeds):\n",
    "        rng = np.random.default_rng(seed)\n",
    "        A, b = ols_data(n_rows, n_cols, spectrum, prop_range, rng, only_Ab=True)\n",
    "        if lapack:\n",
    "            tic = time.time()\n",
    "            la.lstsq(A, b)\n",
    "            lapack_times[i] = time.time() - tic\n",
    "        tic = time.time()\n",
    "        alg.exec(A, b, tol, iter_lim, rng)\n",
    "        rlapy_times[i] = time.time() - tic\n",
    "        del A  # encourage Python to garbage collect\n",
    "    return lapack_times, rlapy_times"
   ]
  },
  {
   "cell_type": "code",
   "execution_count": 5,
   "outputs": [
    {
     "name": "stdout",
     "output_type": "stream",
     "text": [
      "[0. 0.]\n",
      "[12.3502326 12.0530405]\n",
      "[0. 0.]\n",
      "[12.26121092 12.1584971 ]\n"
     ]
    }
   ],
   "source": [
    "main_rng = np.random.default_rng(897389723094)\n",
    "num_runs = 2\n",
    "run_lapack = False\n",
    "seeds = main_rng.integers(0, int(1e10), size=num_runs)\n",
    "dims = (100000, 2000)\n",
    "kappa = 1e2\n",
    "sap = rla.SAP1(rla.srct_operator, sampling_factor=5)\n",
    "\n",
    "# linearly decaying spectrum\n",
    "lin_spec = np.linspace(kappa**0.5, kappa**-0.5, num=dims[1])\n",
    "llapackt, lrandlat = time_alg(dims, lin_spec, 0.25,\n",
    "                              sap, 1e-10, seeds, run_lapack)\n",
    "print(llapackt)\n",
    "print(lrandlat)\n",
    "\n",
    "# exponentially decaying spectrum\n",
    "exp_spec = np.logspace(np.log10(kappa)/2, -np.log10(kappa)/2, num=dims[1])\n",
    "elapackt, erandlat = time_alg(dims, exp_spec, 0.25,\n",
    "                              sap, 1e-10, seeds, run_lapack)\n",
    "print(elapackt)\n",
    "print(erandlat)"
   ],
   "metadata": {
    "collapsed": false,
    "pycharm": {
     "name": "#%% Common data for both configurations\n"
    }
   }
  },
  {
   "cell_type": "code",
   "execution_count": 6,
   "outputs": [
    {
     "name": "stdout",
     "output_type": "stream",
     "text": [
      "[0. 0.]\n",
      "[7.90113378 7.92779541]\n",
      "[0. 0.]\n",
      "[8.21894622 8.06815386]\n"
     ]
    }
   ],
   "source": [
    "run_lapack = False\n",
    "sap.sketch_op_gen = rla.sjlt_operator\n",
    "\n",
    "llapackt, lrandlat = time_alg(dims, lin_spec, 0.25,\n",
    "                              sap, 1e-10, seeds, run_lapack)\n",
    "print(llapackt)\n",
    "print(lrandlat)\n",
    "\n",
    "elapackt, erandlat = time_alg(dims, exp_spec, 0.25,\n",
    "                              sap, 1e-10, seeds, run_lapack)\n",
    "print(elapackt)\n",
    "print(erandlat)\n"
   ],
   "metadata": {
    "collapsed": false,
    "pycharm": {
     "name": "#%% Common data for both configurations\n"
    }
   }
  }
 ],
 "metadata": {
  "kernelspec": {
   "display_name": "Python 3",
   "language": "python",
   "name": "python3"
  },
  "language_info": {
   "codemirror_mode": {
    "name": "ipython",
    "version": 2
   },
   "file_extension": ".py",
   "mimetype": "text/x-python",
   "name": "python",
   "nbconvert_exporter": "python",
   "pygments_lexer": "ipython2",
   "version": "2.7.6"
  }
 },
 "nbformat": 4,
 "nbformat_minor": 0
}