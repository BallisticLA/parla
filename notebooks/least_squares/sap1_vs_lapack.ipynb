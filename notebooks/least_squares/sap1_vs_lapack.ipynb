{
 "cells": [
  {
   "cell_type": "code",
   "execution_count": 1,
   "metadata": {
    "pycharm": {
     "is_executing": true
    }
   },
   "outputs": [],
   "source": [
    "import time\n",
    "import rlapy as rla\n",
    "import numpy as np\n",
    "import scipy.linalg as la\n",
    "from notebooks.least_squares.helpers import make_demo_helper\n",
    "\n",
    "\n",
    "def time_alg(dims, spectrum, prop_range, alg, tol, seeds, lapack=False):\n",
    "    n_rows, n_cols = dims\n",
    "    lapack_times = np.zeros(seeds.size)\n",
    "    rlapy_times = np.zeros(seeds.size)\n",
    "    iter_lim = dims[1]\n",
    "    rng = np.random.default_rng(seeds[0])\n",
    "    dh = make_demo_helper(n_rows, n_cols, spectrum, prop_range, rng)\n",
    "    A, b = dh.A, dh.b\n",
    "    for i, seed in enumerate(seeds):\n",
    "        if i > 0:\n",
    "            rng = np.random.default_rng(seed)\n",
    "            b = dh.resample_b(prop_range, rng)\n",
    "        if lapack:\n",
    "            tic = time.time()\n",
    "            la.lstsq(A, b)\n",
    "            lapack_times[i] = time.time() - tic\n",
    "        tic = time.time()\n",
    "        alg(A, b, tol, iter_lim, rng)\n",
    "        rlapy_times[i] = time.time() - tic\n",
    "    return lapack_times, rlapy_times"
   ]
  },
  {
   "cell_type": "code",
   "execution_count": 2,
   "metadata": {
    "pycharm": {
     "name": "#%% Common data for both configurations\n"
    }
   },
   "outputs": [
    {
     "name": "stdout",
     "output_type": "stream",
     "text": [
      "Sketch and precondition configuration\n",
      "\tUse SRCT to sketch (discrete cosine transform)\n",
      "\tUse embedding dimension d = 5 * A.shape[1]\n",
      "\n",
      "Runtimes: A has linearly decaying spectrum\n",
      "\tLAPACK: [20.97871494 21.50359702]\n",
      "\trlapy : [13.80186653 12.04853368]\n",
      "\n",
      "Runtimes: A has exponentially decaying spectrum\n",
      "\tLAPACK: [19.69154763 20.62780356]\n",
      "\trlapy : [12.01751542 12.64846778]\n"
     ]
    }
   ],
   "source": [
    "main_rng = np.random.default_rng(897389723094)\n",
    "num_runs = 2\n",
    "run_lapack = True\n",
    "seeds = main_rng.integers(0, int(1e10), size=num_runs)\n",
    "dims = (100000, 2000)\n",
    "kappa = 1e5\n",
    "prop_range = 0.95\n",
    "\n",
    "sap = rla.SAP1(rla.srct_operator, sampling_factor=5)\n",
    "print('Sketch and precondition configuration')\n",
    "print('\\tUse SRCT to sketch (discrete cosine transform)')\n",
    "print('\\tUse embedding dimension d = 5 * A.shape[1]\\n')\n",
    "\n",
    "# linearly decaying spectrum\n",
    "lin_spec = np.linspace(kappa**0.5, kappa**-0.5, num=dims[1])\n",
    "llapackt, lrandlat = time_alg(dims, lin_spec, prop_range,\n",
    "                              sap, 1e-12, seeds, run_lapack)\n",
    "print('Runtimes: A has linearly decaying spectrum')\n",
    "print('\\tLAPACK: ' + str(llapackt))\n",
    "print('\\trlapy : ' + str(lrandlat))\n",
    "print()\n",
    "\n",
    "# exponentially decaying spectrum\n",
    "exp_spec = np.logspace(np.log10(kappa)/2, -np.log10(kappa)/2, num=dims[1])\n",
    "elapackt, erandlat = time_alg(dims, exp_spec, prop_range,\n",
    "                              sap, 1e-12, seeds, run_lapack)\n",
    "print('Runtimes: A has exponentially decaying spectrum')\n",
    "print('\\tLAPACK: ' + str(elapackt))\n",
    "print('\\trlapy : ' + str(erandlat))"
   ]
  },
  {
   "cell_type": "code",
   "execution_count": 3,
   "metadata": {
    "pycharm": {
     "name": "#%% Common data for both configurations\n"
    }
   },
   "outputs": [
    {
     "name": "stdout",
     "output_type": "stream",
     "text": [
      "Sketch and precondition configuration\n",
      "\tUse sparse Johnson-Lindenstrauss to sketch\n",
      "\tUse embedding dimension d = 5 * A.shape[1]\n",
      "\n",
      "Runtimes: A has linearly decaying spectrum\n",
      "\tLAPACK: [20.97871494 21.50359702]\n",
      "\trlapy : [8.75145411 8.72003341]\n",
      "\n",
      "Runtimes: A has exponentially decaying spectrum\n",
      "\tLAPACK: [19.69154763 20.62780356]\n",
      "\trlapy : [9.45470905 8.85090303]\n"
     ]
    }
   ],
   "source": [
    "run_lapack = False  # LAPACK times are the same as in the last cell.\n",
    "llapackt_old = llapackt.copy()\n",
    "elapackt_old = elapackt.copy()\n",
    "\n",
    "sap.sketch_op_gen = rla.sjlt_operator\n",
    "print('Sketch and precondition configuration')\n",
    "print('\\tUse sparse Johnson-Lindenstrauss to sketch')\n",
    "print('\\tUse embedding dimension d = 5 * A.shape[1]\\n')\n",
    "\n",
    "llapackt, lrandlat = time_alg(dims, lin_spec, prop_range,\n",
    "                              sap, 1e-12, seeds, run_lapack)\n",
    "print('Runtimes: A has linearly decaying spectrum')\n",
    "print('\\tLAPACK: ' + str(llapackt_old))\n",
    "print('\\trlapy : ' + str(lrandlat))\n",
    "\n",
    "print('\\nRuntimes: A has exponentially decaying spectrum')\n",
    "elapackt, erandlat = time_alg(dims, exp_spec, prop_range,\n",
    "                              sap, 1e-12, seeds, run_lapack)\n",
    "print('\\tLAPACK: ' + str(elapackt_old))\n",
    "print('\\trlapy : ' + str(erandlat))"
   ]
  }
 ],
 "metadata": {
  "kernelspec": {
   "display_name": "Python 3",
   "language": "python",
   "name": "python3"
  },
  "language_info": {
   "codemirror_mode": {
    "name": "ipython",
    "version": 3
   },
   "file_extension": ".py",
   "mimetype": "text/x-python",
   "name": "python",
   "nbconvert_exporter": "python",
   "pygments_lexer": "ipython3",
   "version": "3.9.6"
  }
 },
 "nbformat": 4,
 "nbformat_minor": 1
}